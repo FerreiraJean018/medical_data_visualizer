{
  "nbformat": 4,
  "nbformat_minor": 0,
  "metadata": {
    "colab": {
      "provenance": [],
      "authorship_tag": "ABX9TyMBxbdQnaE4vsfRrBuxxEdT",
      "include_colab_link": true
    },
    "kernelspec": {
      "name": "python3",
      "display_name": "Python 3"
    },
    "language_info": {
      "name": "python"
    }
  },
  "cells": [
    {
      "cell_type": "markdown",
      "metadata": {
        "id": "view-in-github",
        "colab_type": "text"
      },
      "source": [
        "<a href=\"https://colab.research.google.com/github/FerreiraJean018/medical_data_visualizer/blob/main/medical_data_visualizer.ipynb\" target=\"_parent\"><img src=\"https://colab.research.google.com/assets/colab-badge.svg\" alt=\"Open In Colab\"/></a>"
      ]
    },
    {
      "cell_type": "code",
      "execution_count": 5,
      "metadata": {
        "id": "DkRwslcnVk2L"
      },
      "outputs": [],
      "source": [
        "import pandas as pd\n",
        "import seaborn as sns\n",
        "import matplotlib.pyplot as plt\n",
        "import numpy as np\n",
        "\n",
        "# 1\n",
        "df = pd.read_csv('medical_examination.csv')\n",
        "\n",
        "# 2\n",
        "df['overweight'] = round(df['weight'] / (df['height']/100)**2, 1)\n",
        "df['overweight'] = df['overweight'].apply(lambda x: 0 if x <= 25 else 1)\n",
        "\n",
        "\n",
        "# 3\n",
        "df['gluc'] = df['gluc'].apply(lambda x: 0 if x == 1 else 1)\n",
        "df['cholesterol'] = df['cholesterol'].apply(lambda x: 0 if x == 1 else 1)\n",
        "\n",
        "# 4\n",
        "df_cat = pd.melt(df, id_vars=['cardio'], value_vars=['cholesterol', 'gluc', 'smoke', 'alco', 'active', 'overweight'])\n",
        "df_cat = df_cat.groupby(['cardio', 'variable', 'value'], as_index = False).count()\n",
        "\n",
        "\n",
        "def draw_cat_plot():\n",
        "    # 5\n",
        "    df_cat = pd.melt(df, id_vars=['cardio'], value_vars=['cholesterol', 'gluc', 'smoke', 'alco', 'active', 'overweight'])\n",
        "\n",
        "\n",
        "    # 6\n",
        "    df_cat['total'] = 1\n",
        "    df_cat = df_cat.groupby(['cardio', 'variable', 'value'], as_index = False).count()\n",
        "\n",
        "    # 7\n",
        "    fig = sns.catplot(x = 'variable', y = 'total',data = df_cat,  hue = 'value', kind = 'bar', col = 'cardio').fig\n",
        "\n",
        "    # 8\n",
        "    fig.savefig('catplot.png')\n",
        "    return fig\n",
        "\n",
        "# 9\n",
        "def draw_heat_map():\n",
        "    # 10\n",
        "    df_heat = df[\n",
        "        (df['ap_lo'] <= df['ap_hi']) &\n",
        "        (df['height'] >= df['height'].quantile(0.025)) &\n",
        "        (df['height'] <= df['height'].quantile(0.975)) &\n",
        "        (df['weight'] >= df['weight'].quantile(0.025)) &\n",
        "        (df['weight'] <= df['weight'].quantile(0.975))]\n",
        "\n",
        "    # 11\n",
        "    corr = df_heat.corr(method = 'pearson')\n",
        "\n",
        "    # 12\n",
        "    mask = np.triu(corr)\n",
        "\n",
        "\n",
        "\n",
        "    # 13\n",
        "    fig, ax = plt.subplots(figsize = (12, 12))\n",
        "\n",
        "\n",
        "    # 14\n",
        "    sns.heatmap(corr, linewidths = 1, annot = True,square = True, mask = mask, fmt = '.1f', center = 0.08, cbar_kws = {'shrink':0.5})\n",
        "\n",
        "    # 15\n",
        "    fig.savefig('heatmap.png')\n",
        "    return fig\n"
      ]
    }
  ]
}